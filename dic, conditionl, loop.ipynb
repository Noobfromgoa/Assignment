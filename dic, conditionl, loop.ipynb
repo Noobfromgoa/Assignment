{
 "cells": [
  {
   "cell_type": "code",
   "execution_count": 1,
   "id": "21875bc0-cf64-46cb-bb85-bf654659e163",
   "metadata": {},
   "outputs": [],
   "source": [
    "l =[1,2,3,4,5,6,7]"
   ]
  },
  {
   "cell_type": "code",
   "execution_count": 9,
   "id": "9817f14d-d2c9-4076-8e86-049252f9a8c3",
   "metadata": {},
   "outputs": [
    {
     "data": {
      "text/plain": [
       "2"
      ]
     },
     "execution_count": 9,
     "metadata": {},
     "output_type": "execute_result"
    }
   ],
   "source": [
    "l[0] +1"
   ]
  },
  {
   "cell_type": "code",
   "execution_count": 10,
   "id": "025700e3-3919-43d7-b67d-216989cabdf5",
   "metadata": {},
   "outputs": [],
   "source": [
    "l =[1,2,3,4,5,6,7,8]"
   ]
  },
  {
   "cell_type": "markdown",
   "id": "e8245b08-c8be-4931-904b-e11f771f8078",
   "metadata": {},
   "source": [
    "# l1= []\n",
    "for i in l :\n",
    "    print(i+1)\n",
    "    l1.append(i1+1)\n",
    "    "
   ]
  },
  {
   "cell_type": "code",
   "execution_count": 16,
   "id": "79969ead-5e32-4ef3-aa69-7e811d18dba8",
   "metadata": {},
   "outputs": [],
   "source": [
    "l = [\"ved\", \"karmalkar\", \"pwskills\" , \"course\"]"
   ]
  },
  {
   "cell_type": "code",
   "execution_count": 20,
   "id": "81bfb1c6-c312-4747-9919-0e19e98dd1f6",
   "metadata": {},
   "outputs": [
    {
     "name": "stdout",
     "output_type": "stream",
     "text": [
      "ved\n",
      "karmalkar\n",
      "pwskills\n",
      "course\n"
     ]
    }
   ],
   "source": [
    "l1 = []\n",
    "for i in l :\n",
    "    print(i)\n",
    "    l1.append(i.upper())"
   ]
  },
  {
   "cell_type": "code",
   "execution_count": 21,
   "id": "db232006-6629-4ad6-a2f2-b1cf35c2222f",
   "metadata": {},
   "outputs": [
    {
     "data": {
      "text/plain": [
       "['VED', 'KARMALKAR', 'PWSKILLS', 'COURSE']"
      ]
     },
     "execution_count": 21,
     "metadata": {},
     "output_type": "execute_result"
    }
   ],
   "source": [
    "l1"
   ]
  },
  {
   "cell_type": "code",
   "execution_count": 23,
   "id": "50cebd7b-4973-4c57-b2e8-ab8bff7fb2a8",
   "metadata": {},
   "outputs": [],
   "source": [
    "l = [1,2,3,4,5, \"ved\" , \"karmalkar\" , 324,34.456, \"abc\"]"
   ]
  },
  {
   "cell_type": "code",
   "execution_count": 27,
   "id": "a0f83e62-f79c-4ef0-8657-509c07819e8d",
   "metadata": {},
   "outputs": [],
   "source": [
    "l1_num= []\n",
    "l2_str = []\n",
    "for i in l : \n",
    "    if type(i) == int or type(i) == float :\n",
    "        l1_num.append(i)\n",
    "    else : \n",
    "        l2_str.append(i)\n",
    "    "
   ]
  },
  {
   "cell_type": "code",
   "execution_count": 28,
   "id": "2a6b0b1e-c115-4820-bd06-055b547a0ab9",
   "metadata": {},
   "outputs": [
    {
     "data": {
      "text/plain": [
       "[1, 2, 3, 4, 5, 324, 34.456]"
      ]
     },
     "execution_count": 28,
     "metadata": {},
     "output_type": "execute_result"
    }
   ],
   "source": [
    "l1_num\n"
   ]
  },
  {
   "cell_type": "code",
   "execution_count": 29,
   "id": "9ffa3b43-a034-4a4a-96c1-dfa2a730b58d",
   "metadata": {},
   "outputs": [
    {
     "data": {
      "text/plain": [
       "['ved', 'karmalkar', 'abc']"
      ]
     },
     "execution_count": 29,
     "metadata": {},
     "output_type": "execute_result"
    }
   ],
   "source": [
    "l2_str"
   ]
  },
  {
   "cell_type": "code",
   "execution_count": null,
   "id": "fe57a822-a0b2-444d-acbd-b808c53ccca8",
   "metadata": {},
   "outputs": [],
   "source": []
  }
 ],
 "metadata": {
  "kernelspec": {
   "display_name": "Python 3 (ipykernel)",
   "language": "python",
   "name": "python3"
  },
  "language_info": {
   "codemirror_mode": {
    "name": "ipython",
    "version": 3
   },
   "file_extension": ".py",
   "mimetype": "text/x-python",
   "name": "python",
   "nbconvert_exporter": "python",
   "pygments_lexer": "ipython3",
   "version": "3.10.8"
  }
 },
 "nbformat": 4,
 "nbformat_minor": 5
}
